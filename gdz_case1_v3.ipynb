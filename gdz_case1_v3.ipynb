{
 "cells": [
  {
   "cell_type": "code",
   "execution_count": 2,
   "metadata": {},
   "outputs": [],
   "source": [
    "import pandas as pd\n",
    "import numpy as np\n",
    "from datetime import datetime\n",
    "import itertools\n",
    "import re\n",
    "\n",
    "trainDF = pd.read_csv(\"train.csv\")\n",
    "trafoDF = pd.read_csv(\"trafo.csv\")\n",
    "submissionDF = pd.read_csv(\"submission.csv\")\n",
    "bagilNemDF = pd.read_csv(\"Hava Durumu/Bağıl Nem.csv\")\n",
    "bulutsuzlukOraniDF = pd.read_csv(\"Hava Durumu/Bulutluluk Oranı.csv\")\n",
    "radyasyonDF = pd.read_csv(\"Hava Durumu/Radyasyon.csv\")\n",
    "ruzgarHiziDF = pd.read_csv(\"Hava Durumu/Rüzgar Hızı.csv\")\n",
    "ruzgarYonuDF = pd.read_csv(\"Hava Durumu/Rüzgar Yönü.csv\")\n",
    "sicaklikDF = pd.read_csv(\"Hava Durumu/Sıcaklık.csv\")\n",
    "yagisDF = pd.read_csv(\"Hava Durumu/Yağış.csv\")\n",
    "\n",
    "radyasyonDF.drop(\"Unnamed: 17\",axis=1,inplace=True) # bilinmeyen kolon ve içeriği boş olduğu için drop ediyoruz\n",
    "trainDF.drop(\"BİLDİRİME_GÖRE\",axis=1,inplace=True) # Bu kolon için tüm degerler aynı,bir katkısı olmayacak bu sebeple drop ediyoruz\n",
    "\n",
    "\n",
    "def tr_capitalize(param_word):\n",
    "    word_list = param_word.split(sep=\" \")\n",
    "    new_word = \"\"\n",
    "    for word in word_list:\n",
    "        first_letter = word[0]\n",
    "        last_part = word[1:]\n",
    "\n",
    "        first_letter = re.sub(r\"i\", \"İ\", first_letter)\n",
    "        first_letter = re.sub(r\"ı\", \"I\", first_letter)\n",
    "        first_letter = re.sub(r\"ç\", \"Ç\", first_letter)\n",
    "        first_letter = re.sub(r\"ş\", \"Ş\", first_letter)\n",
    "        first_letter = re.sub(r\"ü\", \"Ü\", first_letter)\n",
    "        first_letter = re.sub(r\"ğ\", \"Ğ\", first_letter)\n",
    "\n",
    "        last_part = re.sub(r\"İ\", \"i\", last_part)\n",
    "        last_part = re.sub(r\"I\", \"ı\", last_part)\n",
    "        last_part = re.sub(r\"Ç\", \"ç\", last_part)\n",
    "        last_part = re.sub(r\"Ş\", \"ş\", last_part)\n",
    "        last_part = re.sub(r\"Ü\", \"ü\", last_part)\n",
    "        last_part = re.sub(r\"Ğ\", \"ğ\", last_part)\n",
    "\n",
    "        rebuilt_word = first_letter + last_part\n",
    "        rebuilt_word = rebuilt_word.capitalize()\n",
    "        new_word = new_word + \" \" + rebuilt_word\n",
    "\n",
    "    new_word = new_word.strip()\n",
    "    return new_word\n",
    "\n",
    "    \n",
    "trainDF[\"BAŞLAMA_TARİHİ\"] = pd.to_datetime(trainDF[\"BAŞLAMA_TARİHİ_VE_ZAMANI\"], dayfirst=True).dt.date\n",
    "trainDF[\"SONA_ERME_TARİHİ\"] = pd.to_datetime(trainDF[\"SONA_ERME_TARİHİ_VE_ZAMANI\"], dayfirst=True).dt.date\n",
    "\n",
    "bagilNemDF[\"Tarih\"]=pd.to_datetime(bagilNemDF[\"Tarih\"],errors='coerce').dt.date\n",
    "radyasyonDF[\"Tarih\"]=pd.to_datetime(radyasyonDF[\"Tarih\"],errors='coerce').dt.date\n",
    "bulutsuzlukOraniDF[\"Tarih\"]=pd.to_datetime(bulutsuzlukOraniDF[\"Tarih\"],errors='coerce').dt.date\n",
    "ruzgarHiziDF[\"Tarih\"]=pd.to_datetime(ruzgarHiziDF[\"Tarih\"],errors='coerce').dt.date\n",
    "ruzgarYonuDF[\"Tarih\"]=pd.to_datetime(ruzgarYonuDF[\"Tarih\"],errors='coerce').dt.date\n",
    "sicaklikDF[\"Tarih\"]=pd.to_datetime(sicaklikDF[\"Tarih\"],errors='coerce').dt.date\n",
    "yagisDF[\"Tarih\"]=pd.to_datetime(yagisDF[\"Tarih\"],errors='coerce').dt.date\n",
    "\n",
    "\n",
    "minDate = trainDF[\"BAŞLAMA_TARİHİ\"].min()\n",
    "\n",
    "# hava durumu ile ilgili dataframelerin tarihini traindf nin en düşük tarihine göre filtreliyoruz\n",
    "bagilNemDF=bagilNemDF[bagilNemDF[\"Tarih\"] >= minDate]\n",
    "bulutsuzlukOraniDF=bulutsuzlukOraniDF[bulutsuzlukOraniDF[\"Tarih\"] >= minDate]\n",
    "radyasyonDF=radyasyonDF[radyasyonDF[\"Tarih\"] >= minDate]\n",
    "ruzgarHiziDF=ruzgarHiziDF[ruzgarHiziDF[\"Tarih\"] >= minDate]\n",
    "ruzgarYonuDF=ruzgarYonuDF[ruzgarYonuDF[\"Tarih\"] >= minDate]\n",
    "sicaklikDF=sicaklikDF[sicaklikDF[\"Tarih\"] >= minDate]\n",
    "yagisDF=yagisDF[yagisDF[\"Tarih\"] >= minDate]\n",
    "\n",
    "\n",
    "trafo_date=submissionDF[\"trafo_id_date\"].str.split(\"__\",expand=True)\n",
    "submissionDF[\"trafo_id\"]  = trafo_date[0]\n",
    "submissionDF[\"Tarih\"]  = trafo_date[1]\n",
    "submissionDF.drop(\"trafo_id_date\",axis=1,inplace=True)\n"
   ]
  },
  {
   "cell_type": "code",
   "execution_count": 3,
   "metadata": {},
   "outputs": [],
   "source": [
    "havaDurumuLokasyonlar = list(set(itertools.chain(bagilNemDF.columns,bulutsuzlukOraniDF.columns,radyasyonDF.columns,ruzgarHiziDF.columns,ruzgarYonuDF.columns,sicaklikDF.columns,yagisDF.columns)))\n",
    "\n",
    "trainDF[\"İL\"]=trainDF[\"İL\"].apply(lambda x: tr_capitalize(x))\n",
    "trainDF[\"İLÇE\"]=trainDF[\"İLÇE\"].apply(lambda x: tr_capitalize(x))\n",
    "trainDF[\"LOKASYON\"] = trainDF[[\"İL\",\"İLÇE\"]].apply(lambda x: x[\"İLÇE\"] if x[\"İLÇE\"] in havaDurumuLokasyonlar else x[\"İL\"], axis=1)\n",
    "trainDF.drop([\"İL\",\"İLÇE\"],axis=1,inplace=True)"
   ]
  },
  {
   "cell_type": "code",
   "execution_count": 4,
   "metadata": {},
   "outputs": [],
   "source": [
    "# her saatır için lokasyon(il ve ilçeye göre) ve tarihe göre hava durumu ortalama degerlerini yeni bir kolonda gösteriyoruz\n",
    "# for dfDegisken in [bagilNemDF,bulutsuzlukOraniDF,radyasyonDF,ruzgarHiziDF,ruzgarYonuDF,sicaklikDF,yagisDF]:\n",
    "#     ortalama = dfDegisken.groupby(\"Tarih\").mean().to_dict()\n",
    "#     tarihler=dfDegisken.groupby(\"Tarih\").mean().index\n",
    "#     if(str(dfDegisken)==str(bagilNemDF)):\n",
    "#         kolon_adi=\"BAĞIL_NEM\"\n",
    "#     elif(str(dfDegisken)==str(bulutsuzlukOraniDF)):\n",
    "#         kolon_adi=\"BULUTSUZLUK_ORANI\"\n",
    "#     elif(str(dfDegisken)==str(radyasyonDF)):\n",
    "#         kolon_adi=\"RADYASYON\"\n",
    "#     elif(str(dfDegisken)==str(ruzgarHiziDF)):\n",
    "#         kolon_adi=\"RUZGAR_HIZI\"\n",
    "#     elif(str(dfDegisken)==str(ruzgarYonuDF)):\n",
    "#         kolon_adi=\"RUZGAR_YONU\"\n",
    "#     elif(str(dfDegisken)==str(sicaklikDF)):\n",
    "#         kolon_adi=\"SICAKLIK\"\n",
    "#     elif(str(dfDegisken)==str(yagisDF)):\n",
    "#         kolon_adi=\"YAGIS\"\n",
    "    \n",
    "#     trainDF[kolon_adi] = trainDF.apply(lambda x: ortalama[x[\"LOKASYON\"]][x[\"BAŞLAMA_TARİHİ\"]] if x[\"BAŞLAMA_TARİHİ\"] in tarihler else 0.0,axis=1)"
   ]
  },
  {
   "cell_type": "code",
   "execution_count": 4,
   "metadata": {},
   "outputs": [],
   "source": [
    "trainDF=pd.merge(trainDF,trafoDF,on='ŞEBEKE_UNSURU_KODU',how='left')\n",
    "trainDF['target']=1\n",
    "#start -> trainDF[\"BAŞLAMA_TARİHİ\"]).min() and end -> trainDF[\"BAŞLAMA_TARİHİ\"]).max()\n",
    "dframe=pd.DataFrame(pd.date_range(start='5/1/2021', end='6/12/2022', freq='D'))\n",
    "dframe.rename(columns={0:\"Tarih\"},inplace=True)\n",
    "\n",
    "uniqueTrafo=pd.DataFrame()\n",
    "uniqueTrafo[\"trafo_id\"]=trainDF[\"trafo_id\"].unique()\n",
    "# uniqueTrafo=uniqueTrafo.merge(trainDF[[\"trafo_id\",\"LOKASYON\"]],on=\"trafo_id\",how=\"inner\").drop_duplicates()\n",
    "# dframe=dframe.merge(uniqueTrafo[[\"trafo_id\",\"LOKASYON\"]], how='cross')\n",
    "\n",
    "uniqueTrafo=uniqueTrafo.merge(trainDF[\"trafo_id\"],on=\"trafo_id\",how=\"inner\").drop_duplicates()\n",
    "dframe=dframe.merge(uniqueTrafo[\"trafo_id\"], how='cross')\n",
    "\n",
    "trainDF.rename(columns={\"BAŞLAMA_TARİHİ\":\"Tarih\"},inplace=True)\n",
    "trainDF[\"Tarih\"]=trainDF[\"Tarih\"].astype('datetime64[ns]')\n",
    "\n",
    "\n",
    "\n",
    "trafo_lokasyon=trainDF[[\"trafo_id\",\"LOKASYON\"]].drop_duplicates()\n",
    "finalDF = pd.merge(dframe,trafo_lokasyon, on=['trafo_id'],how=\"left\")\n",
    "\n"
   ]
  },
  {
   "cell_type": "code",
   "execution_count": 6,
   "metadata": {},
   "outputs": [
    {
     "name": "stderr",
     "output_type": "stream",
     "text": [
      "c:\\Users\\eminkbc\\AppData\\Local\\Programs\\Python\\Python310\\lib\\site-packages\\pandas\\core\\indexes\\base.py:5010: FutureWarning: Comparison of Timestamp with datetime.date is deprecated in order to match the standard library behavior. In a future version these will be considered non-comparable. Use 'ts == pd.Timestamp(date)' or 'ts.date() == date' instead.\n",
      "  return key in self._engine\n"
     ]
    },
    {
     "ename": "KeyError",
     "evalue": "Timestamp('2021-10-21 00:00:00')",
     "output_type": "error",
     "traceback": [
      "\u001b[1;31m---------------------------------------------------------------------------\u001b[0m",
      "\u001b[1;31mKeyError\u001b[0m                                  Traceback (most recent call last)",
      "\u001b[1;32mc:\\Users\\eminkbc\\Desktop\\gdz22_1\\gdz_case1_v3.ipynb Hücre 5\u001b[0m in \u001b[0;36m<cell line: 2>\u001b[1;34m()\u001b[0m\n\u001b[0;32m     <a href='vscode-notebook-cell:/c%3A/Users/eminkbc/Desktop/gdz22_1/gdz_case1_v3.ipynb#X10sZmlsZQ%3D%3D?line=16'>17</a>\u001b[0m     \u001b[39melif\u001b[39;00m(\u001b[39mstr\u001b[39m(dfDegisken)\u001b[39m==\u001b[39m\u001b[39mstr\u001b[39m(yagisDF)):\n\u001b[0;32m     <a href='vscode-notebook-cell:/c%3A/Users/eminkbc/Desktop/gdz22_1/gdz_case1_v3.ipynb#X10sZmlsZQ%3D%3D?line=17'>18</a>\u001b[0m         kolon_adi\u001b[39m=\u001b[39m\u001b[39m\"\u001b[39m\u001b[39mYAGIS\u001b[39m\u001b[39m\"\u001b[39m\n\u001b[1;32m---> <a href='vscode-notebook-cell:/c%3A/Users/eminkbc/Desktop/gdz22_1/gdz_case1_v3.ipynb#X10sZmlsZQ%3D%3D?line=19'>20</a>\u001b[0m     finalDF[kolon_adi] \u001b[39m=\u001b[39m finalDF\u001b[39m.\u001b[39;49mapply(\u001b[39mlambda\u001b[39;49;00m x: ortalama[x[\u001b[39m\"\u001b[39;49m\u001b[39mLOKASYON\u001b[39;49m\u001b[39m\"\u001b[39;49m]][x[\u001b[39m\"\u001b[39;49m\u001b[39mTarih\u001b[39;49m\u001b[39m\"\u001b[39;49m]] \u001b[39mif\u001b[39;49;00m x[\u001b[39m\"\u001b[39;49m\u001b[39mTarih\u001b[39;49m\u001b[39m\"\u001b[39;49m] \u001b[39min\u001b[39;49;00m tarihler \u001b[39melse\u001b[39;49;00m \u001b[39m0.0\u001b[39;49m,  axis\u001b[39m=\u001b[39;49m\u001b[39m1\u001b[39;49m)\n\u001b[0;32m     <a href='vscode-notebook-cell:/c%3A/Users/eminkbc/Desktop/gdz22_1/gdz_case1_v3.ipynb#X10sZmlsZQ%3D%3D?line=21'>22</a>\u001b[0m finalDF\u001b[39m.\u001b[39mto_csv(\u001b[39m\"\u001b[39m\u001b[39mfinalDF.csv\u001b[39m\u001b[39m\"\u001b[39m)\n",
      "File \u001b[1;32mc:\\Users\\eminkbc\\AppData\\Local\\Programs\\Python\\Python310\\lib\\site-packages\\pandas\\core\\frame.py:8833\u001b[0m, in \u001b[0;36mDataFrame.apply\u001b[1;34m(self, func, axis, raw, result_type, args, **kwargs)\u001b[0m\n\u001b[0;32m   8822\u001b[0m \u001b[39mfrom\u001b[39;00m \u001b[39mpandas\u001b[39;00m\u001b[39m.\u001b[39;00m\u001b[39mcore\u001b[39;00m\u001b[39m.\u001b[39;00m\u001b[39mapply\u001b[39;00m \u001b[39mimport\u001b[39;00m frame_apply\n\u001b[0;32m   8824\u001b[0m op \u001b[39m=\u001b[39m frame_apply(\n\u001b[0;32m   8825\u001b[0m     \u001b[39mself\u001b[39m,\n\u001b[0;32m   8826\u001b[0m     func\u001b[39m=\u001b[39mfunc,\n\u001b[1;32m   (...)\u001b[0m\n\u001b[0;32m   8831\u001b[0m     kwargs\u001b[39m=\u001b[39mkwargs,\n\u001b[0;32m   8832\u001b[0m )\n\u001b[1;32m-> 8833\u001b[0m \u001b[39mreturn\u001b[39;00m op\u001b[39m.\u001b[39;49mapply()\u001b[39m.\u001b[39m__finalize__(\u001b[39mself\u001b[39m, method\u001b[39m=\u001b[39m\u001b[39m\"\u001b[39m\u001b[39mapply\u001b[39m\u001b[39m\"\u001b[39m)\n",
      "File \u001b[1;32mc:\\Users\\eminkbc\\AppData\\Local\\Programs\\Python\\Python310\\lib\\site-packages\\pandas\\core\\apply.py:727\u001b[0m, in \u001b[0;36mFrameApply.apply\u001b[1;34m(self)\u001b[0m\n\u001b[0;32m    724\u001b[0m \u001b[39melif\u001b[39;00m \u001b[39mself\u001b[39m\u001b[39m.\u001b[39mraw:\n\u001b[0;32m    725\u001b[0m     \u001b[39mreturn\u001b[39;00m \u001b[39mself\u001b[39m\u001b[39m.\u001b[39mapply_raw()\n\u001b[1;32m--> 727\u001b[0m \u001b[39mreturn\u001b[39;00m \u001b[39mself\u001b[39;49m\u001b[39m.\u001b[39;49mapply_standard()\n",
      "File \u001b[1;32mc:\\Users\\eminkbc\\AppData\\Local\\Programs\\Python\\Python310\\lib\\site-packages\\pandas\\core\\apply.py:851\u001b[0m, in \u001b[0;36mFrameApply.apply_standard\u001b[1;34m(self)\u001b[0m\n\u001b[0;32m    850\u001b[0m \u001b[39mdef\u001b[39;00m \u001b[39mapply_standard\u001b[39m(\u001b[39mself\u001b[39m):\n\u001b[1;32m--> 851\u001b[0m     results, res_index \u001b[39m=\u001b[39m \u001b[39mself\u001b[39;49m\u001b[39m.\u001b[39;49mapply_series_generator()\n\u001b[0;32m    853\u001b[0m     \u001b[39m# wrap results\u001b[39;00m\n\u001b[0;32m    854\u001b[0m     \u001b[39mreturn\u001b[39;00m \u001b[39mself\u001b[39m\u001b[39m.\u001b[39mwrap_results(results, res_index)\n",
      "File \u001b[1;32mc:\\Users\\eminkbc\\AppData\\Local\\Programs\\Python\\Python310\\lib\\site-packages\\pandas\\core\\apply.py:867\u001b[0m, in \u001b[0;36mFrameApply.apply_series_generator\u001b[1;34m(self)\u001b[0m\n\u001b[0;32m    864\u001b[0m \u001b[39mwith\u001b[39;00m option_context(\u001b[39m\"\u001b[39m\u001b[39mmode.chained_assignment\u001b[39m\u001b[39m\"\u001b[39m, \u001b[39mNone\u001b[39;00m):\n\u001b[0;32m    865\u001b[0m     \u001b[39mfor\u001b[39;00m i, v \u001b[39min\u001b[39;00m \u001b[39menumerate\u001b[39m(series_gen):\n\u001b[0;32m    866\u001b[0m         \u001b[39m# ignore SettingWithCopy here in case the user mutates\u001b[39;00m\n\u001b[1;32m--> 867\u001b[0m         results[i] \u001b[39m=\u001b[39m \u001b[39mself\u001b[39;49m\u001b[39m.\u001b[39;49mf(v)\n\u001b[0;32m    868\u001b[0m         \u001b[39mif\u001b[39;00m \u001b[39misinstance\u001b[39m(results[i], ABCSeries):\n\u001b[0;32m    869\u001b[0m             \u001b[39m# If we have a view on v, we need to make a copy because\u001b[39;00m\n\u001b[0;32m    870\u001b[0m             \u001b[39m#  series_generator will swap out the underlying data\u001b[39;00m\n\u001b[0;32m    871\u001b[0m             results[i] \u001b[39m=\u001b[39m results[i]\u001b[39m.\u001b[39mcopy(deep\u001b[39m=\u001b[39m\u001b[39mFalse\u001b[39;00m)\n",
      "\u001b[1;32mc:\\Users\\eminkbc\\Desktop\\gdz22_1\\gdz_case1_v3.ipynb Hücre 5\u001b[0m in \u001b[0;36m<lambda>\u001b[1;34m(x)\u001b[0m\n\u001b[0;32m     <a href='vscode-notebook-cell:/c%3A/Users/eminkbc/Desktop/gdz22_1/gdz_case1_v3.ipynb#X10sZmlsZQ%3D%3D?line=16'>17</a>\u001b[0m     \u001b[39melif\u001b[39;00m(\u001b[39mstr\u001b[39m(dfDegisken)\u001b[39m==\u001b[39m\u001b[39mstr\u001b[39m(yagisDF)):\n\u001b[0;32m     <a href='vscode-notebook-cell:/c%3A/Users/eminkbc/Desktop/gdz22_1/gdz_case1_v3.ipynb#X10sZmlsZQ%3D%3D?line=17'>18</a>\u001b[0m         kolon_adi\u001b[39m=\u001b[39m\u001b[39m\"\u001b[39m\u001b[39mYAGIS\u001b[39m\u001b[39m\"\u001b[39m\n\u001b[1;32m---> <a href='vscode-notebook-cell:/c%3A/Users/eminkbc/Desktop/gdz22_1/gdz_case1_v3.ipynb#X10sZmlsZQ%3D%3D?line=19'>20</a>\u001b[0m     finalDF[kolon_adi] \u001b[39m=\u001b[39m finalDF\u001b[39m.\u001b[39mapply(\u001b[39mlambda\u001b[39;00m x: ortalama[x[\u001b[39m\"\u001b[39;49m\u001b[39mLOKASYON\u001b[39;49m\u001b[39m\"\u001b[39;49m]][x[\u001b[39m\"\u001b[39;49m\u001b[39mTarih\u001b[39;49m\u001b[39m\"\u001b[39;49m]] \u001b[39mif\u001b[39;00m x[\u001b[39m\"\u001b[39m\u001b[39mTarih\u001b[39m\u001b[39m\"\u001b[39m] \u001b[39min\u001b[39;00m tarihler \u001b[39melse\u001b[39;00m \u001b[39m0.0\u001b[39m,  axis\u001b[39m=\u001b[39m\u001b[39m1\u001b[39m)\n\u001b[0;32m     <a href='vscode-notebook-cell:/c%3A/Users/eminkbc/Desktop/gdz22_1/gdz_case1_v3.ipynb#X10sZmlsZQ%3D%3D?line=21'>22</a>\u001b[0m finalDF\u001b[39m.\u001b[39mto_csv(\u001b[39m\"\u001b[39m\u001b[39mfinalDF.csv\u001b[39m\u001b[39m\"\u001b[39m)\n",
      "\u001b[1;31mKeyError\u001b[0m: Timestamp('2021-10-21 00:00:00')"
     ]
    }
   ],
   "source": [
    "# her saatır için lokasyon(il ve ilçeye göre) ve tarihe göre hava durumu ortalama degerlerini yeni bir kolonda gösteriyoruz\n",
    "for dfDegisken in [bagilNemDF,bulutsuzlukOraniDF,radyasyonDF,ruzgarHiziDF,ruzgarYonuDF,sicaklikDF,yagisDF]:\n",
    "    ortalama = dfDegisken.groupby(\"Tarih\").mean().to_dict()\n",
    "    tarihler=dfDegisken.groupby(\"Tarih\").mean().index\n",
    "    if(str(dfDegisken)==str(bagilNemDF)):\n",
    "        kolon_adi=\"BAĞIL_NEM\"\n",
    "    elif(str(dfDegisken)==str(bulutsuzlukOraniDF)):\n",
    "        kolon_adi=\"BULUTSUZLUK_ORANI\"\n",
    "    elif(str(dfDegisken)==str(radyasyonDF)):\n",
    "        kolon_adi=\"RADYASYON\"\n",
    "    elif(str(dfDegisken)==str(ruzgarHiziDF)):\n",
    "        kolon_adi=\"RUZGAR_HIZI\"\n",
    "    elif(str(dfDegisken)==str(ruzgarYonuDF)):\n",
    "        kolon_adi=\"RUZGAR_YONU\"\n",
    "    elif(str(dfDegisken)==str(sicaklikDF)):\n",
    "        kolon_adi=\"SICAKLIK\"\n",
    "    elif(str(dfDegisken)==str(yagisDF)):\n",
    "        kolon_adi=\"YAGIS\"\n",
    "    \n",
    "    finalDF[kolon_adi] = finalDF.apply(lambda x: ortalama[x[\"LOKASYON\"]][x[\"Tarih\"]] if x[\"Tarih\"] in tarihler else 0.0,  axis=1)\n",
    "\n",
    "finalDF.to_csv(\"finalDF.csv\")"
   ]
  },
  {
   "cell_type": "code",
   "execution_count": 6,
   "metadata": {},
   "outputs": [],
   "source": [
    "# trainDF2=trainDF[[\"Tarih\",\"trafo_id\",\"KESİNTİ_NO\"]]\n",
    "\n",
    "# merged = pd.merge(dframe,trainDF2, on=[\"Tarih\",'trafo_id'],how=\"left\")\n",
    "# finalDF[finalDF[\"KESİNTİ_NO\"].notna()]\n",
    "\n",
    "ortalama = bagilNemDF.groupby(\"Tarih\").mean().to_dict()\n",
    "# tarihler=finalDF.groupby(\"Tarih\").mean().index   \n",
    "finalDF[\"BAĞIL_NEM\"] = finalDF.apply(lambda x: ortalama[x[\"trafo_id\"]][x[\"Tarih\"]], axis=1)\n",
    "\n",
    "# finalDF[\"BAĞIL_NEM\"]"
   ]
  },
  {
   "cell_type": "code",
   "execution_count": 7,
   "metadata": {},
   "outputs": [
    {
     "data": {
      "text/plain": [
       "Tarih       datetime64[ns]\n",
       "trafo_id             int64\n",
       "LOKASYON            object\n",
       "dtype: object"
      ]
     },
     "execution_count": 7,
     "metadata": {},
     "output_type": "execute_result"
    }
   ],
   "source": []
  }
 ],
 "metadata": {
  "kernelspec": {
   "display_name": "Python 3.10.2 64-bit",
   "language": "python",
   "name": "python3"
  },
  "language_info": {
   "codemirror_mode": {
    "name": "ipython",
    "version": 3
   },
   "file_extension": ".py",
   "mimetype": "text/x-python",
   "name": "python",
   "nbconvert_exporter": "python",
   "pygments_lexer": "ipython3",
   "version": "3.10.2"
  },
  "orig_nbformat": 4,
  "vscode": {
   "interpreter": {
    "hash": "1235a4a0d137df5292140eb52adc627bffa45ff4395dc88783d325bfa7b4fac3"
   }
  }
 },
 "nbformat": 4,
 "nbformat_minor": 2
}
